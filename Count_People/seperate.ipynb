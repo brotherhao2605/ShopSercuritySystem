{
 "cells": [
  {
   "cell_type": "code",
   "execution_count": 2,
   "metadata": {},
   "outputs": [],
   "source": [
    "import cv2\n",
    "import os"
   ]
  },
  {
   "cell_type": "code",
   "execution_count": 6,
   "metadata": {},
   "outputs": [],
   "source": [
    "def extract_frame(vid_path, out_folder):\n",
    "    cap = cv2.VideoCapture(vid_path)\n",
    "    \n",
    "    if not cap.isOpened():\n",
    "        print('Cant open')\n",
    "    \n",
    "    if not os.path.exists(out_folder):\n",
    "        os.makedirs(out_folder)\n",
    "    \n",
    "    frame_count = 0\n",
    "    while True:\n",
    "        ret, frame = cap.read()\n",
    "        \n",
    "        if not ret:\n",
    "            break\n",
    "        \n",
    "        frame_count+= 1\n",
    "        if frame_count>=38 and frame_count%10==0:\n",
    "            frame_name = f'frame_{frame_count//10:04d}.jpg'\n",
    "            frame_path = os.path.join(out_folder, frame_name)\n",
    "            cv2.imwrite(frame_path, frame)\n",
    "\n",
    "    cap.release()\n",
    "    print('Done!')"
   ]
  },
  {
   "cell_type": "code",
   "execution_count": 7,
   "metadata": {},
   "outputs": [
    {
     "name": "stdout",
     "output_type": "stream",
     "text": [
      "Done!\n"
     ]
    }
   ],
   "source": [
    "path = '../Data/retailStore.mp4'\n",
    "folder = \"retailStore\"\n",
    "extract_frame(path,folder)"
   ]
  }
 ],
 "metadata": {
  "kernelspec": {
   "display_name": "Python 3",
   "language": "python",
   "name": "python3"
  },
  "language_info": {
   "codemirror_mode": {
    "name": "ipython",
    "version": 3
   },
   "file_extension": ".py",
   "mimetype": "text/x-python",
   "name": "python",
   "nbconvert_exporter": "python",
   "pygments_lexer": "ipython3",
   "version": "3.9.2"
  }
 },
 "nbformat": 4,
 "nbformat_minor": 2
}
